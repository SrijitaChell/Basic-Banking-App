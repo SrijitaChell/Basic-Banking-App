{
  "nbformat": 4,
  "nbformat_minor": 0,
  "metadata": {
    "colab": {
      "name": "Untitled1.ipynb",
      "provenance": [],
      "authorship_tag": "ABX9TyMWBZYwrugQHp7vSf868r6X",
      "include_colab_link": true
    },
    "kernelspec": {
      "name": "python3",
      "display_name": "Python 3"
    },
    "language_info": {
      "name": "python"
    }
  },
  "cells": [
    {
      "cell_type": "markdown",
      "metadata": {
        "id": "view-in-github",
        "colab_type": "text"
      },
      "source": [
        "<a href=\"https://colab.research.google.com/github/SrijitaChell/Basic-Banking-App/blob/main/Codechef.ipynb\" target=\"_parent\"><img src=\"https://colab.research.google.com/assets/colab-badge.svg\" alt=\"Open In Colab\"/></a>"
      ]
    },
    {
      "cell_type": "code",
      "execution_count": 2,
      "metadata": {
        "colab": {
          "base_uri": "https://localhost:8080/"
        },
        "id": "ZNPEYAEEMSnd",
        "outputId": "59f62d5b-20c3-4419-ff25-0fd3a053bcde"
      },
      "outputs": [
        {
          "output_type": "stream",
          "name": "stdout",
          "text": [
            "5858 1234\n",
            "4625\n"
          ]
        }
      ],
      "source": [
        "# In Ciel's restaurant, a waiter is training. Since the waiter isn't good at arithmetic,\n",
        "# sometimes he gives guests wrong change. Ciel gives him a simple problem. What is A-B (A minus B) ?\n",
        "#\n",
        "# Surprisingly, his answer is wrong. To be more precise, his answer has exactly one wrong digit.\n",
        "# Can you imagine this? Can you make the same mistake in this problem?\n",
        "#\n",
        "# Input\n",
        "# An input contains 2 integers A and B.\n",
        "#\n",
        "# Output\n",
        "# Print a wrong answer of A-B. Your answer must be a positive integer containing the same number of digits\n",
        "# as the correct answer, and exactly one digit must differ from the correct answer. Leading zeros are not\n",
        "# allowed. If there are multiple answers satisfying the above conditions, anyone will do.\n",
        "#\n",
        "# Constraints\n",
        "# 1 ≤ B < A ≤ 10000\n",
        "#\n",
        "# Sample Input\n",
        "# 5858 1234\n",
        "#\n",
        "# Sample Output\n",
        "# 1624\n",
        "#\n",
        "# Output details\n",
        "# The correct answer of 5858-1234 is 4624. So, for instance, 2624, 4324, 4623, 4604 and 4629 will be accepted,\n",
        "# but 0624, 624, 5858, 4624 and 04624 will be rejected.\n",
        "\n",
        "# MY SOLUTION:\n",
        "\n",
        "## This solution gives error in codechef as this consumes more memory\n",
        "\n",
        "# A, B = input().split()\n",
        "# result = list(str(int(A) - int(B)))\n",
        "# result[random.randint(0, 3)] = str(random.randint(0, 9))\n",
        "# print(int(''.join(result)))\n",
        "\n",
        "A, B = map(int, input().split())\n",
        "C = A - B\n",
        "if C % 10 == 9:\n",
        "    C = C - 1\n",
        "else:\n",
        "    C = C + 1\n",
        "print(C)\n",
        "\n",
        "# Output For above solution:\n",
        "# 5858 1234\n",
        "# 4625\n"
      ]
    }
  ]
}