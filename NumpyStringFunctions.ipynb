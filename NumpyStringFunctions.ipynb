{
  "nbformat": 4,
  "nbformat_minor": 0,
  "metadata": {
    "colab": {
      "name": "Untitled3.ipynb",
      "provenance": [],
      "authorship_tag": "ABX9TyNsZNcN46laT4kjgO/vs942",
      "include_colab_link": true
    },
    "kernelspec": {
      "name": "python3",
      "display_name": "Python 3"
    },
    "language_info": {
      "name": "python"
    }
  },
  "cells": [
    {
      "cell_type": "markdown",
      "metadata": {
        "id": "view-in-github",
        "colab_type": "text"
      },
      "source": [
        "<a href=\"https://colab.research.google.com/github/SrijitaChell/Basic-Banking-App/blob/main/NumpyStringFunctions.ipynb\" target=\"_parent\"><img src=\"https://colab.research.google.com/assets/colab-badge.svg\" alt=\"Open In Colab\"/></a>"
      ]
    },
    {
      "cell_type": "code",
      "execution_count": 3,
      "metadata": {
        "colab": {
          "base_uri": "https://localhost:8080/"
        },
        "id": "yXzS2GqrPaOz",
        "outputId": "ea8bcda0-62f4-4833-ca9d-336c867ee57a"
      },
      "outputs": [
        {
          "output_type": "stream",
          "name": "stdout",
          "text": [
            "['abcxyz']\n",
            "['abcpqr']\n",
            "['abcabcabc']\n",
            "['********abc*********']\n",
            "Hello world\n",
            "Hello How Are You?\n",
            "['hello' 'world']\n",
            "HELLO\n",
            "['Srijita', 'Chell']\n",
            "['2017', '02', '11']\n",
            "d:m:y\n"
          ]
        }
      ],
      "source": [
        "import numpy as np\n",
        "\n",
        "abc = ['abc']\n",
        "xyz = ['xyz']\n",
        "\n",
        "# string concatenation\n",
        "print(np.char.add(abc, xyz))    # ['abcxyz']\n",
        "\n",
        "print(np.char.add(abc, 'pqr'))  # ['abcpqr']\n",
        "\n",
        "# string multiplication\n",
        "print(np.char.multiply(abc, 3)) # ['abcabcabc']\n",
        "\n",
        "# numpy.char.center: This function returns an array of the required width so that the input string is\n",
        "# centered and padded on the left and right with fillchar.\n",
        "\n",
        "print(np.char.center(abc, 20, fillchar = '*'))  # ['********abc*********']\n",
        "\n",
        "# numpy.char.capitalize(): This function returns the copy of the string with the first letter capitalized.\n",
        "print(np.char.capitalize('hello world'))        # Hello world\n",
        "\n",
        "# numpy.char.title(): This function returns a title cased version of the input string with the first letter\n",
        "# of each word capitalized.\n",
        "print(np.char.title('hello how are you?'))      # Hello How Are You?\n",
        "\n",
        "# numpy.char.lower(): This function returns an array with elements converted to lowercase. It calls\n",
        "# str.lower for each element.\n",
        "print(np.char.lower(['HELLO','WORLD']))         # ['hello' 'world']\n",
        "\n",
        "# numpy.char.upper(): This function calls str.upper function on each element in an array to return\n",
        "# the uppercase array elements.\n",
        "print(np.char.upper('hello'))                   # HELLO\n",
        "\n",
        "# numpy.char.split(): This function returns a list of words in the input string. By default, a whitespace\n",
        "# is used as a separator\n",
        "print(np.char.split('Srijita Chell'))            # ['Srijita', 'Chell']\n",
        "print(np.char.split('2017-02-11', sep='-'))     # ['2017', '02', '11']\n",
        "\n",
        "# numpy.char.join(): This method returns a string in which the individual characters are joined by\n",
        "# separator character specified.\n",
        "print(np.char.join(':','dmy'))                  # d:m:y\n"
      ]
    }
  ]
}