{
  "nbformat": 4,
  "nbformat_minor": 0,
  "metadata": {
    "colab": {
      "name": "Untitled2.ipynb",
      "provenance": [],
      "authorship_tag": "ABX9TyPfeuiW7vYFIM98YPuMJ25R",
      "include_colab_link": true
    },
    "kernelspec": {
      "name": "python3",
      "display_name": "Python 3"
    },
    "language_info": {
      "name": "python"
    }
  },
  "cells": [
    {
      "cell_type": "markdown",
      "metadata": {
        "id": "view-in-github",
        "colab_type": "text"
      },
      "source": [
        "<a href=\"https://colab.research.google.com/github/SrijitaChell/Basic-Banking-App/blob/main/NumpyArrayManipulation.ipynb\" target=\"_parent\"><img src=\"https://colab.research.google.com/assets/colab-badge.svg\" alt=\"Open In Colab\"/></a>"
      ]
    },
    {
      "cell_type": "code",
      "execution_count": 1,
      "metadata": {
        "colab": {
          "base_uri": "https://localhost:8080/"
        },
        "id": "GtAjd21wOkJj",
        "outputId": "d28ca5cf-2866-4953-f3b8-13f55d42ce80"
      },
      "outputs": [
        {
          "output_type": "stream",
          "name": "stdout",
          "text": [
            "[ 0  2  4  6  8 10 12 14 16 18 20 22 24 26 28]\n",
            "[[ 0  2  4]\n",
            " [ 6  8 10]\n",
            " [12 14 16]\n",
            " [18 20 22]\n",
            " [24 26 28]]\n",
            "10\n",
            "[ 0  2  4  6  8 10 12 14 16 18 20 22 24 26 28]\n",
            "[[ 0  6 12 18 24]\n",
            " [ 2  8 14 20 26]\n",
            " [ 4 10 16 22 28]]\n",
            "[[[0 1]\n",
            "  [2 3]]\n",
            "\n",
            " [[4 5]\n",
            "  [6 7]]]\n",
            "[[[0 4]\n",
            "  [2 6]]\n",
            "\n",
            " [[1 5]\n",
            "  [3 7]]]\n",
            "[[[0 2]\n",
            "  [4 6]]\n",
            "\n",
            " [[1 3]\n",
            "  [5 7]]]\n",
            "[[1 2 3]\n",
            " [4 5 6]]\n",
            "[[1 2]\n",
            " [3 4]\n",
            " [5 6]]\n",
            "[[1 2 3]\n",
            " [4 5 6]]\n",
            "[1 2 3 4 5 6 7 8 9]\n"
          ]
        }
      ],
      "source": [
        "# This example shows various array manipulation operations\n",
        "import numpy as np\n",
        "\n",
        "# numpy.reshape(array_to_reshape, tuple_of_new_shape) gives new shape (dimension) to our array\n",
        "myArray = np.arange(0, 30, 2)\n",
        "print(myArray)              # [ 0  2  4  6  8 10 12 14 16 18 20 22 24 26 28]\n",
        "\n",
        "myArrayReshaped = myArray.reshape(5, 3)\n",
        "print(myArrayReshaped)\n",
        "\n",
        "# [[ 0  2  4]\n",
        "#  [ 6  8 10]\n",
        "#  [12 14 16]\n",
        "#  [18 20 22]\n",
        "#  [24 26 28]]\n",
        "\n",
        "# numpy.ndarray.flat() returns an 1-D iterator\n",
        "print(myArray.flat[5])      # 10\n",
        "\n",
        "# numpy.ndarray.flatten() restores the reshaped array into a 1-D array\n",
        "print(myArrayReshaped.flatten())\n",
        "\n",
        "# numpy.tranpose() this helps to find the tranpose of the given array\n",
        "print(myArrayReshaped.transpose())\n",
        "\n",
        "# [[ 0  6 12 18 24]\n",
        "#  [ 2  8 14 20 26]\n",
        "#  [ 4 10 16 22 28]]\n",
        "\n",
        "# numpy.swapaxes(array, axis1, axis2) interchanges the two axes of an array\n",
        "originalArray = np.arange(8).reshape(2,2,2)\n",
        "print(originalArray)\n",
        "\n",
        "# [[[0 1]\n",
        "#   [2 3]]\n",
        "#  \n",
        "#  [[4 5]\n",
        "#   [6 7]]]\n",
        "\n",
        "print(np.swapaxes(originalArray, 2, 0))\n",
        "\n",
        "# [[[0 4]\n",
        "#   [2 6]]\n",
        "#  \n",
        "#  [[1 5]\n",
        "#   [3 7]]]\n",
        "\n",
        "# numpy.rollaxis(arr, axis, start) rolls the specified axis backwards, until it lies in a specified position\n",
        "print(np.rollaxis(originalArray, 2))\n",
        "\n",
        "# [[[0 2]\n",
        "#   [4 6]]\n",
        "#  \n",
        "#  [[1 3]\n",
        "#   [5 7]]]\n",
        "\n",
        "# numpy.resize(arr, shape) returns a new array with the specified size. If the new size is greater than\n",
        "# the original, the repeated copies of entries in the original are contained\n",
        "\n",
        "myArray = np.array([[1,2,3],[4,5,6]])\n",
        "print(myArray)\n",
        "\n",
        "# [[1 2 3]\n",
        "#  [4 5 6]]\n",
        "\n",
        "print(np.resize(myArray, (3, 2)))\n",
        "\n",
        "# [[1 2]\n",
        "#  [3 4]\n",
        "#  [5 6]]\n",
        "\n",
        "# numpy.append(array, values, axis)\n",
        "myArray = np.array([[1,2,3],[4,5,6]])\n",
        "print(myArray)\n",
        "\n",
        "# [[1 2 3]\n",
        "#  [4 5 6]]\n",
        "\n",
        "print(np.append(myArray, [7, 8, 9]))\n",
        "\n",
        "# [1 2 3 4 5 6 7 8 9]\n"
      ]
    }
  ]
}