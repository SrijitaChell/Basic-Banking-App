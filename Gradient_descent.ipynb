{
  "nbformat": 4,
  "nbformat_minor": 0,
  "metadata": {
    "colab": {
      "name": "Gradient_descent.ipynb",
      "provenance": [],
      "authorship_tag": "ABX9TyN6JnJpT7F40iX/HQBcYa9v",
      "include_colab_link": true
    },
    "kernelspec": {
      "name": "python3",
      "display_name": "Python 3"
    },
    "language_info": {
      "name": "python"
    }
  },
  "cells": [
    {
      "cell_type": "markdown",
      "metadata": {
        "id": "view-in-github",
        "colab_type": "text"
      },
      "source": [
        "<a href=\"https://colab.research.google.com/github/SrijitaChell/Basic-Banking-App/blob/main/Gradient_descent.ipynb\" target=\"_parent\"><img src=\"https://colab.research.google.com/assets/colab-badge.svg\" alt=\"Open In Colab\"/></a>"
      ]
    },
    {
      "cell_type": "code",
      "execution_count": 2,
      "metadata": {
        "colab": {
          "base_uri": "https://localhost:8080/",
          "height": 471
        },
        "id": "gm-6klC3R-F9",
        "outputId": "946d758d-17a2-4f95-9442-ccd83ed4c488"
      },
      "outputs": [
        {
          "output_type": "error",
          "ename": "OSError",
          "evalue": "ignored",
          "traceback": [
            "\u001b[0;31m---------------------------------------------------------------------------\u001b[0m",
            "\u001b[0;31mOSError\u001b[0m                                   Traceback (most recent call last)",
            "\u001b[0;32m<ipython-input-2-4745578ead2b>\u001b[0m in \u001b[0;36m<module>\u001b[0;34m\u001b[0m\n\u001b[1;32m     73\u001b[0m \u001b[0;34m\u001b[0m\u001b[0m\n\u001b[1;32m     74\u001b[0m \u001b[0;31m# load data\u001b[0m\u001b[0;34m\u001b[0m\u001b[0;34m\u001b[0m\u001b[0;34m\u001b[0m\u001b[0m\n\u001b[0;32m---> 75\u001b[0;31m \u001b[0mx_\u001b[0m\u001b[0;34m,\u001b[0m \u001b[0my_\u001b[0m \u001b[0;34m=\u001b[0m \u001b[0mload_data\u001b[0m\u001b[0;34m(\u001b[0m\u001b[0;34m\"./data/1_points.csv\"\u001b[0m\u001b[0;34m)\u001b[0m\u001b[0;34m\u001b[0m\u001b[0;34m\u001b[0m\u001b[0m\n\u001b[0m\u001b[1;32m     76\u001b[0m \u001b[0;34m\u001b[0m\u001b[0m\n\u001b[1;32m     77\u001b[0m \u001b[0;31m# time stamp\u001b[0m\u001b[0;34m\u001b[0m\u001b[0;34m\u001b[0m\u001b[0;34m\u001b[0m\u001b[0m\n",
            "\u001b[0;32m<ipython-input-2-4745578ead2b>\u001b[0m in \u001b[0;36mload_data\u001b[0;34m(fname)\u001b[0m\n\u001b[1;32m     32\u001b[0m \u001b[0;34m\u001b[0m\u001b[0m\n\u001b[1;32m     33\u001b[0m \u001b[0;32mdef\u001b[0m \u001b[0mload_data\u001b[0m\u001b[0;34m(\u001b[0m\u001b[0mfname\u001b[0m\u001b[0;34m)\u001b[0m\u001b[0;34m:\u001b[0m\u001b[0;34m\u001b[0m\u001b[0;34m\u001b[0m\u001b[0m\n\u001b[0;32m---> 34\u001b[0;31m     \u001b[0mpoints\u001b[0m \u001b[0;34m=\u001b[0m \u001b[0mnp\u001b[0m\u001b[0;34m.\u001b[0m\u001b[0mloadtxt\u001b[0m\u001b[0;34m(\u001b[0m\u001b[0mfname\u001b[0m\u001b[0;34m,\u001b[0m \u001b[0mdelimiter\u001b[0m\u001b[0;34m=\u001b[0m\u001b[0;34m','\u001b[0m\u001b[0;34m)\u001b[0m\u001b[0;34m\u001b[0m\u001b[0;34m\u001b[0m\u001b[0m\n\u001b[0m\u001b[1;32m     35\u001b[0m     \u001b[0my_\u001b[0m \u001b[0;34m=\u001b[0m \u001b[0mpoints\u001b[0m\u001b[0;34m[\u001b[0m\u001b[0;34m:\u001b[0m\u001b[0;34m,\u001b[0m\u001b[0;36m1\u001b[0m\u001b[0;34m]\u001b[0m\u001b[0;34m\u001b[0m\u001b[0;34m\u001b[0m\u001b[0m\n\u001b[1;32m     36\u001b[0m     \u001b[0;31m# append '1' to account for the intercept\u001b[0m\u001b[0;34m\u001b[0m\u001b[0;34m\u001b[0m\u001b[0;34m\u001b[0m\u001b[0m\n",
            "\u001b[0;32m/usr/local/lib/python3.7/dist-packages/numpy/lib/npyio.py\u001b[0m in \u001b[0;36mloadtxt\u001b[0;34m(fname, dtype, comments, delimiter, converters, skiprows, usecols, unpack, ndmin, encoding, max_rows, like)\u001b[0m\n\u001b[1;32m   1065\u001b[0m             \u001b[0mfname\u001b[0m \u001b[0;34m=\u001b[0m \u001b[0mos_fspath\u001b[0m\u001b[0;34m(\u001b[0m\u001b[0mfname\u001b[0m\u001b[0;34m)\u001b[0m\u001b[0;34m\u001b[0m\u001b[0;34m\u001b[0m\u001b[0m\n\u001b[1;32m   1066\u001b[0m         \u001b[0;32mif\u001b[0m \u001b[0m_is_string_like\u001b[0m\u001b[0;34m(\u001b[0m\u001b[0mfname\u001b[0m\u001b[0;34m)\u001b[0m\u001b[0;34m:\u001b[0m\u001b[0;34m\u001b[0m\u001b[0;34m\u001b[0m\u001b[0m\n\u001b[0;32m-> 1067\u001b[0;31m             \u001b[0mfh\u001b[0m \u001b[0;34m=\u001b[0m \u001b[0mnp\u001b[0m\u001b[0;34m.\u001b[0m\u001b[0mlib\u001b[0m\u001b[0;34m.\u001b[0m\u001b[0m_datasource\u001b[0m\u001b[0;34m.\u001b[0m\u001b[0mopen\u001b[0m\u001b[0;34m(\u001b[0m\u001b[0mfname\u001b[0m\u001b[0;34m,\u001b[0m \u001b[0;34m'rt'\u001b[0m\u001b[0;34m,\u001b[0m \u001b[0mencoding\u001b[0m\u001b[0;34m=\u001b[0m\u001b[0mencoding\u001b[0m\u001b[0;34m)\u001b[0m\u001b[0;34m\u001b[0m\u001b[0;34m\u001b[0m\u001b[0m\n\u001b[0m\u001b[1;32m   1068\u001b[0m             \u001b[0mfencoding\u001b[0m \u001b[0;34m=\u001b[0m \u001b[0mgetattr\u001b[0m\u001b[0;34m(\u001b[0m\u001b[0mfh\u001b[0m\u001b[0;34m,\u001b[0m \u001b[0;34m'encoding'\u001b[0m\u001b[0;34m,\u001b[0m \u001b[0;34m'latin1'\u001b[0m\u001b[0;34m)\u001b[0m\u001b[0;34m\u001b[0m\u001b[0;34m\u001b[0m\u001b[0m\n\u001b[1;32m   1069\u001b[0m             \u001b[0mfh\u001b[0m \u001b[0;34m=\u001b[0m \u001b[0miter\u001b[0m\u001b[0;34m(\u001b[0m\u001b[0mfh\u001b[0m\u001b[0;34m)\u001b[0m\u001b[0;34m\u001b[0m\u001b[0;34m\u001b[0m\u001b[0m\n",
            "\u001b[0;32m/usr/local/lib/python3.7/dist-packages/numpy/lib/_datasource.py\u001b[0m in \u001b[0;36mopen\u001b[0;34m(path, mode, destpath, encoding, newline)\u001b[0m\n\u001b[1;32m    191\u001b[0m \u001b[0;34m\u001b[0m\u001b[0m\n\u001b[1;32m    192\u001b[0m     \u001b[0mds\u001b[0m \u001b[0;34m=\u001b[0m \u001b[0mDataSource\u001b[0m\u001b[0;34m(\u001b[0m\u001b[0mdestpath\u001b[0m\u001b[0;34m)\u001b[0m\u001b[0;34m\u001b[0m\u001b[0;34m\u001b[0m\u001b[0m\n\u001b[0;32m--> 193\u001b[0;31m     \u001b[0;32mreturn\u001b[0m \u001b[0mds\u001b[0m\u001b[0;34m.\u001b[0m\u001b[0mopen\u001b[0m\u001b[0;34m(\u001b[0m\u001b[0mpath\u001b[0m\u001b[0;34m,\u001b[0m \u001b[0mmode\u001b[0m\u001b[0;34m,\u001b[0m \u001b[0mencoding\u001b[0m\u001b[0;34m=\u001b[0m\u001b[0mencoding\u001b[0m\u001b[0;34m,\u001b[0m \u001b[0mnewline\u001b[0m\u001b[0;34m=\u001b[0m\u001b[0mnewline\u001b[0m\u001b[0;34m)\u001b[0m\u001b[0;34m\u001b[0m\u001b[0;34m\u001b[0m\u001b[0m\n\u001b[0m\u001b[1;32m    194\u001b[0m \u001b[0;34m\u001b[0m\u001b[0m\n\u001b[1;32m    195\u001b[0m \u001b[0;34m\u001b[0m\u001b[0m\n",
            "\u001b[0;32m/usr/local/lib/python3.7/dist-packages/numpy/lib/_datasource.py\u001b[0m in \u001b[0;36mopen\u001b[0;34m(self, path, mode, encoding, newline)\u001b[0m\n\u001b[1;32m    531\u001b[0m                                       encoding=encoding, newline=newline)\n\u001b[1;32m    532\u001b[0m         \u001b[0;32melse\u001b[0m\u001b[0;34m:\u001b[0m\u001b[0;34m\u001b[0m\u001b[0;34m\u001b[0m\u001b[0m\n\u001b[0;32m--> 533\u001b[0;31m             \u001b[0;32mraise\u001b[0m \u001b[0mIOError\u001b[0m\u001b[0;34m(\u001b[0m\u001b[0;34m\"%s not found.\"\u001b[0m \u001b[0;34m%\u001b[0m \u001b[0mpath\u001b[0m\u001b[0;34m)\u001b[0m\u001b[0;34m\u001b[0m\u001b[0;34m\u001b[0m\u001b[0m\n\u001b[0m\u001b[1;32m    534\u001b[0m \u001b[0;34m\u001b[0m\u001b[0m\n\u001b[1;32m    535\u001b[0m \u001b[0;34m\u001b[0m\u001b[0m\n",
            "\u001b[0;31mOSError\u001b[0m: ./data/1_points.csv not found."
          ]
        }
      ],
      "source": [
        "####################################################################################\n",
        "## PROBLEM1: Gradient Descent\n",
        "## Gradient descent is a popular optimization technique to solve many\n",
        "## machine learning problems. In this case, we will explore the gradient\n",
        "## descent algorithm to fit a line for the given set of 2-D points.\n",
        "## ref: https://tinyurl.com/yc4jbjzs\n",
        "## ref: https://spin.atomicobject.com/2014/06/24/gradient-descent-linear-regression/\n",
        "##\n",
        "##\n",
        "## input: directory of faces in ./data/1_points.csv/\n",
        "## function for reading points is provided\n",
        "##\n",
        "##\n",
        "## your task: fill the following functions:\n",
        "## evaluate_cost\n",
        "## evaluate_gradient\n",
        "## udpate_params\n",
        "## NOTE: do NOT change values of 'init_params' and 'max_iterations' in optimizer\n",
        "##\n",
        "##\n",
        "## output: cost after convergence (rmse, lower the better)\n",
        "##\n",
        "##\n",
        "## NOTE: all required modules are imported. DO NOT import new modules.\n",
        "## NOTE: references are given intline\n",
        "## tested on Ubuntu14.04, 22Oct2017, Abhilash Srikantha\n",
        "####################################################################################\n",
        "\n",
        "import numpy as np\n",
        "import matplotlib.pyplot as plt\n",
        "import time\n",
        "\n",
        "def load_data(fname):\n",
        "    points = np.loadtxt(fname, delimiter=',') \n",
        "    y_ = points[:,1]\n",
        "    # append '1' to account for the intercept\n",
        "    x_ = np.ones([len(y_),2]) \n",
        "    x_[:,0] = points[:,0]\n",
        "    # display plot\n",
        "    #plt.plot(x_[:,0], y_, 'ro')\n",
        "    #plt.xlabel('x-axis')\n",
        "    #plt.ylabel('y-axis')\n",
        "    #plt.show()\n",
        "    print('data loaded. x:{} y:{}'.format(x_.shape, y_.shape))\n",
        "    return x_, y_\n",
        "\n",
        "def evaluate_cost(x_,y_,params):\n",
        "    tempcost = 0\n",
        "    for i in range(len(y_)):\n",
        "        tempcost += (y_[i] - ((params[0] * x_[i,0]) + params[1])) ** 2 \n",
        "    return tempcost / float(10000)   \n",
        "\n",
        "def evaluate_gradient(x_,y_,params):\n",
        "    m_gradient = 0\n",
        "    b_gradient = 0\n",
        "    N = float(len(y_))\n",
        "    for i in range(len(y_)):\n",
        "        m_gradient += -(2/N) * (x_[i,0] * (y_[i] - ((params[0] * x_[i,0]) + params[1])))\n",
        "        b_gradient += -(2/N) * (y_[i] - ((params[0] * x_[i,0]) + params[1]))\n",
        "    return [m_gradient,b_gradient]\n",
        "\n",
        "def update_params(old_params, grad, alpha):\n",
        "    new_m = old_params[0] - (alpha * grad[0])\n",
        "    new_b = old_params[1] - (alpha * grad[1])\n",
        "    return [new_m,new_b]\n",
        "\n",
        "# initialize the optimizer\n",
        "optimizer = {'init_params':np.array([4.5,2.0]) , \n",
        "             'max_iterations':10000, \n",
        "             'alpha':0.69908, \n",
        "             'eps':0.0000001,\n",
        "             'inf':1e10}\n",
        "\n",
        "# load data\n",
        "x_, y_ = load_data(\"./data/1_points.csv\")\n",
        "\n",
        "# time stamp\n",
        "start = time.time()\n",
        "\n",
        "try:\n",
        "    # gradient descent\n",
        "    params = optimizer['init_params']\n",
        "    old_cost = 1e10\n",
        "    for iter_ in range(optimizer['max_iterations']):\n",
        "        # evaluate cost and gradient\n",
        "        cost = evaluate_cost(x_,y_,params)\n",
        "        grad = evaluate_gradient(x_,y_,params)\n",
        "        # display\n",
        "        if(iter_ % 10 == 0):\n",
        "            print('iter: {} cost: {} params: {}'.format(iter_, cost, params))\n",
        "        # check convergence\n",
        "        if(abs(old_cost - cost) < optimizer['eps']):\n",
        "            break\n",
        "        # udpate parameters\n",
        "        params = update_params(params,grad,optimizer['alpha'])\n",
        "        old_cost = cost\n",
        "except:\n",
        "    cost = optimizer['inf']\n",
        "\n",
        "# final output\n",
        "print('time elapsed: {}'.format(time.time() - start))\n",
        "print('cost at convergence: {} (lower the better)'.format(cost))\n",
        "\n"
      ]
    }
  ]
}