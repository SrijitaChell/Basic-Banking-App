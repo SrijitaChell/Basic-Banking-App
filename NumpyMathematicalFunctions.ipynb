{
  "nbformat": 4,
  "nbformat_minor": 0,
  "metadata": {
    "colab": {
      "name": "Untitled3.ipynb",
      "provenance": [],
      "authorship_tag": "ABX9TyP8DFWcynXxYlj9pTNxaVR6",
      "include_colab_link": true
    },
    "kernelspec": {
      "name": "python3",
      "display_name": "Python 3"
    },
    "language_info": {
      "name": "python"
    }
  },
  "cells": [
    {
      "cell_type": "markdown",
      "metadata": {
        "id": "view-in-github",
        "colab_type": "text"
      },
      "source": [
        "<a href=\"https://colab.research.google.com/github/SrijitaChell/Basic-Banking-App/blob/main/NumpyMathematicalFunctions.ipynb\" target=\"_parent\"><img src=\"https://colab.research.google.com/assets/colab-badge.svg\" alt=\"Open In Colab\"/></a>"
      ]
    },
    {
      "cell_type": "code",
      "execution_count": 4,
      "metadata": {
        "colab": {
          "base_uri": "https://localhost:8080/"
        },
        "id": "yXzS2GqrPaOz",
        "outputId": "b52fd128-7dde-4574-cee1-0321c4240ea4"
      },
      "outputs": [
        {
          "output_type": "stream",
          "name": "stdout",
          "text": [
            "[ 0.00000000e+00  5.00000000e-01  7.07106781e-01  8.66025404e-01\n",
            "  1.00000000e+00  1.22464680e-16 -2.44929360e-16]\n",
            "[ 1.00000000e+00  8.66025404e-01  7.07106781e-01  5.00000000e-01\n",
            "  6.12323400e-17 -1.00000000e+00  1.00000000e+00]\n",
            "[ 0.00000000e+00  5.77350269e-01  1.00000000e+00  1.73205081e+00\n",
            "  1.63312394e+16 -1.22464680e-16 -2.44929360e-16]\n",
            "[ 0.00000000e+00  3.00000000e+01  4.50000000e+01  6.00000000e+01\n",
            "  9.00000000e+01  7.01670930e-15 -1.40334186e-14]\n",
            "[ 0.      0.5     0.7071  0.866   1.      0.     -0.    ]\n",
            "[ 0.  0.  0.  0.  1.  0. -1.]\n",
            "[ 0.  1.  1.  1.  1.  1. -0.]\n"
          ]
        }
      ],
      "source": [
        "import numpy as np\n",
        "\n",
        "angles = np.array([0, 30, 45, 60, 90, 180, 360])\n",
        "\n",
        "# Convert to radians by multiplying with pi/180\n",
        "# for getting sine of angles\n",
        "print(np.sin(angles * np.pi/180))\n",
        "\n",
        "# for getting cosine of angles\n",
        "print(np.cos(angles * np.pi/180))\n",
        "\n",
        "# for getting tangent of angles\n",
        "print(np.tan(angles * np.pi/180))\n",
        "\n",
        "# for computing inverse of trigonometric functions\n",
        "sine = np.sin(angles * np.pi/180)\n",
        "sineinv = np.arcsin(sine)\n",
        "# computing angle from inverse\n",
        "print(np.degrees(sineinv))\n",
        "\n",
        "# for rounding the values\n",
        "print(np.around(sine, 4))       # [ 0.      0.5     0.7071  0.866   1.      0.     -0.    ]\n",
        "\n",
        "# for rounding to previous integer\n",
        "print(np.floor(sine))           # [ 0.  0.  0.  0.  1.  0. -1.]\n",
        "\n",
        "# for rounding to next integer\n",
        "print(np.ceil(sine))            # [ 0.  1.  1.  1.  1.  1. -0.]\n",
        "\n"
      ]
    }
  ]
}